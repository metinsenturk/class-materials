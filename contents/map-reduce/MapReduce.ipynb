{
 "cells": [
  {
   "cell_type": "markdown",
   "metadata": {},
   "source": [
    "## Map Reduce"
   ]
  },
  {
   "cell_type": "code",
   "execution_count": 1,
   "metadata": {},
   "outputs": [],
   "source": [
    "from functools import reduce\n",
    "from itertools import groupby"
   ]
  },
  {
   "cell_type": "markdown",
   "metadata": {},
   "source": [
    "## Map, Reduce, Groupby Functions"
   ]
  },
  {
   "cell_type": "code",
   "execution_count": 2,
   "metadata": {},
   "outputs": [
    {
     "name": "stdout",
     "output_type": "stream",
     "text": [
      "Help on class map in module builtins:\n",
      "\n",
      "class map(object)\n",
      " |  map(func, *iterables) --> map object\n",
      " |  \n",
      " |  Make an iterator that computes the function using arguments from\n",
      " |  each of the iterables.  Stops when the shortest iterable is exhausted.\n",
      " |  \n",
      " |  Methods defined here:\n",
      " |  \n",
      " |  __getattribute__(self, name, /)\n",
      " |      Return getattr(self, name).\n",
      " |  \n",
      " |  __iter__(self, /)\n",
      " |      Implement iter(self).\n",
      " |  \n",
      " |  __next__(self, /)\n",
      " |      Implement next(self).\n",
      " |  \n",
      " |  __reduce__(...)\n",
      " |      Return state information for pickling.\n",
      " |  \n",
      " |  ----------------------------------------------------------------------\n",
      " |  Static methods defined here:\n",
      " |  \n",
      " |  __new__(*args, **kwargs) from builtins.type\n",
      " |      Create and return a new object.  See help(type) for accurate signature.\n",
      "\n"
     ]
    }
   ],
   "source": [
    "help(map)"
   ]
  },
  {
   "cell_type": "code",
   "execution_count": 3,
   "metadata": {},
   "outputs": [],
   "source": [
    "def my_sum(a):\n",
    "    return a + a + a"
   ]
  },
  {
   "cell_type": "code",
   "execution_count": 4,
   "metadata": {},
   "outputs": [
    {
     "data": {
      "text/plain": [
       "3"
      ]
     },
     "execution_count": 4,
     "metadata": {},
     "output_type": "execute_result"
    }
   ],
   "source": [
    "my_sum(1)"
   ]
  },
  {
   "cell_type": "code",
   "execution_count": 5,
   "metadata": {},
   "outputs": [
    {
     "data": {
      "text/plain": [
       "[1, 2, 3, 4]"
      ]
     },
     "execution_count": 5,
     "metadata": {},
     "output_type": "execute_result"
    }
   ],
   "source": [
    "[1,2,3,4]"
   ]
  },
  {
   "cell_type": "code",
   "execution_count": 6,
   "metadata": {},
   "outputs": [
    {
     "data": {
      "text/plain": [
       "[3, 6, 9, 12, 15, 18, 21]"
      ]
     },
     "execution_count": 6,
     "metadata": {},
     "output_type": "execute_result"
    }
   ],
   "source": [
    "list(map(my_sum, [1,2,3,4,5,6,7]))"
   ]
  },
  {
   "cell_type": "code",
   "execution_count": 7,
   "metadata": {},
   "outputs": [
    {
     "name": "stdout",
     "output_type": "stream",
     "text": [
      "Help on class groupby in module itertools:\n",
      "\n",
      "class groupby(builtins.object)\n",
      " |  groupby(iterable, key=None)\n",
      " |  \n",
      " |  make an iterator that returns consecutive keys and groups from the iterable\n",
      " |  \n",
      " |  iterable\n",
      " |    Elements to divide into groups according to the key function.\n",
      " |  key\n",
      " |    A function for computing the group category for each element.\n",
      " |    If the key function is not specified or is None, the element itself\n",
      " |    is used for grouping.\n",
      " |  \n",
      " |  Methods defined here:\n",
      " |  \n",
      " |  __getattribute__(self, name, /)\n",
      " |      Return getattr(self, name).\n",
      " |  \n",
      " |  __iter__(self, /)\n",
      " |      Implement iter(self).\n",
      " |  \n",
      " |  __next__(self, /)\n",
      " |      Implement next(self).\n",
      " |  \n",
      " |  __reduce__(...)\n",
      " |      Return state information for pickling.\n",
      " |  \n",
      " |  __setstate__(...)\n",
      " |      Set state information for unpickling.\n",
      " |  \n",
      " |  ----------------------------------------------------------------------\n",
      " |  Static methods defined here:\n",
      " |  \n",
      " |  __new__(*args, **kwargs) from builtins.type\n",
      " |      Create and return a new object.  See help(type) for accurate signature.\n",
      "\n"
     ]
    }
   ],
   "source": [
    "help(groupby)"
   ]
  },
  {
   "cell_type": "code",
   "execution_count": 8,
   "metadata": {},
   "outputs": [
    {
     "data": {
      "text/plain": [
       "[('a', <itertools._grouper at 0x10a4748e0>),\n",
       " ('b', <itertools._grouper at 0x10a474550>)]"
      ]
     },
     "execution_count": 8,
     "metadata": {},
     "output_type": "execute_result"
    }
   ],
   "source": [
    "[('a', 1), ('a', 2), ('b', 5)]\n",
    "list(groupby([('a', 1), ('a', 2), ('b', 5)], key=lambda x: x[0]))"
   ]
  },
  {
   "cell_type": "code",
   "execution_count": 9,
   "metadata": {},
   "outputs": [
    {
     "name": "stdout",
     "output_type": "stream",
     "text": [
      "Help on built-in function reduce in module _functools:\n",
      "\n",
      "reduce(...)\n",
      "    reduce(function, sequence[, initial]) -> value\n",
      "    \n",
      "    Apply a function of two arguments cumulatively to the items of a sequence,\n",
      "    from left to right, so as to reduce the sequence to a single value.\n",
      "    For example, reduce(lambda x, y: x+y, [1, 2, 3, 4, 5]) calculates\n",
      "    ((((1+2)+3)+4)+5).  If initial is present, it is placed before the items\n",
      "    of the sequence in the calculation, and serves as a default when the\n",
      "    sequence is empty.\n",
      "\n"
     ]
    }
   ],
   "source": [
    "help(reduce)"
   ]
  },
  {
   "cell_type": "code",
   "execution_count": 10,
   "metadata": {},
   "outputs": [
    {
     "data": {
      "text/plain": [
       "6"
      ]
     },
     "execution_count": 10,
     "metadata": {},
     "output_type": "execute_result"
    }
   ],
   "source": [
    "reduce(lambda x, y: x + y, [1, 2, 3])\n",
    "\n",
    "# How it works for reduce\n",
    "# 1. [1, 2, 3]\n",
    "# 2. [3, 3]\n",
    "# 3. [6]\n",
    "# 3. 6 "
   ]
  },
  {
   "cell_type": "markdown",
   "metadata": {},
   "source": [
    "## Mapping"
   ]
  },
  {
   "cell_type": "code",
   "execution_count": 11,
   "metadata": {},
   "outputs": [
    {
     "name": "stdout",
     "output_type": "stream",
     "text": [
      "[('Deer', 1), ('Bear', 1), ('River', 1), ('Car', 1), ('Car', 1), ('River', 1), ('Deer', 1), ('Car', 1), ('Bear', 1)]\n"
     ]
    }
   ],
   "source": [
    "words = ['Deer', 'Bear', 'River', 'Car',\n",
    "         'Car', 'River', 'Deer', 'Car', 'Bear']\n",
    "\n",
    "mapping = list(map(lambda x: (x, 1), words))\n",
    "print(mapping)"
   ]
  },
  {
   "cell_type": "markdown",
   "metadata": {},
   "source": [
    "## Shuffling"
   ]
  },
  {
   "cell_type": "code",
   "execution_count": 12,
   "metadata": {},
   "outputs": [
    {
     "name": "stdout",
     "output_type": "stream",
     "text": [
      "[('Bear', 1), ('Bear', 1), ('Car', 1), ('Car', 1), ('Car', 1), ('Deer', 1), ('Deer', 1), ('River', 1), ('River', 1)]\n"
     ]
    }
   ],
   "source": [
    "sorted_mapping = sorted(mapping)\n",
    "print(sorted_mapping)"
   ]
  },
  {
   "cell_type": "markdown",
   "metadata": {},
   "source": [
    "## Reducing"
   ]
  },
  {
   "cell_type": "code",
   "execution_count": 13,
   "metadata": {},
   "outputs": [
    {
     "name": "stdout",
     "output_type": "stream",
     "text": [
      "Bear\n",
      "[('Bear', 1), ('Bear', 1)]\n",
      "[1, 1]\n",
      "2\n",
      "Car\n",
      "[('Car', 1), ('Car', 1), ('Car', 1)]\n",
      "[1, 1, 1]\n",
      "3\n",
      "Deer\n",
      "[('Deer', 1), ('Deer', 1)]\n",
      "[1, 1]\n",
      "2\n",
      "River\n",
      "[('River', 1), ('River', 1)]\n",
      "[1, 1]\n",
      "2\n"
     ]
    }
   ],
   "source": [
    "# ------ breakdown of 'Reducing' Phase ---------\n",
    "grouper = groupby(sorted_mapping, lambda p: p[0])\n",
    "\n",
    "results = []\n",
    "\n",
    "# loop through each group\n",
    "for group in grouper:\n",
    "    # key that is in the group\n",
    "    key = group[0] \n",
    "    print(key)\n",
    "    \n",
    "    # list of groups for this key\n",
    "    key_value_pairs = list(group[1]) \n",
    "    print(key_value_pairs)\n",
    "    \n",
    "    # only values for current key\n",
    "    values_for_this_key = list(map(lambda p: p[1], key_value_pairs)) \n",
    "    values_for_this_key = [i[1] for i in key_value_pairs]\n",
    "    print(values_for_this_key)\n",
    "    \n",
    "    # final part of map 'reduce', for this key\n",
    "    count_of_current_key = reduce(lambda x, y: x + y, values_for_this_key) \n",
    "    print(count_of_current_key)\n",
    "    \n",
    "    # put it to results\n",
    "    results.append((key, count_of_current_key))\n",
    "\n",
    "    # runs only one if break is uncommented\n",
    "    # break"
   ]
  },
  {
   "cell_type": "code",
   "execution_count": 14,
   "metadata": {},
   "outputs": [
    {
     "data": {
      "text/plain": [
       "[('Bear', 2), ('Car', 3), ('Deer', 2), ('River', 2)]"
      ]
     },
     "execution_count": 14,
     "metadata": {},
     "output_type": "execute_result"
    }
   ],
   "source": [
    "results"
   ]
  },
  {
   "cell_type": "code",
   "execution_count": 15,
   "metadata": {},
   "outputs": [
    {
     "name": "stdout",
     "output_type": "stream",
     "text": [
      "[('Bear', 2), ('Car', 3), ('Deer', 2), ('River', 2)]\n"
     ]
    }
   ],
   "source": [
    "grouper = groupby(sorted_mapping, lambda p: p[0])\n",
    "\n",
    "final = map(\n",
    "    lambda l: (l[0], reduce(lambda x, y: x + y, map(lambda p: p[1], l[1]))), \n",
    "    grouper # <- [('Bear', 1), ('Bear', 1)] ---->     l[0] = 'Bear'     and      l[1] = 1\n",
    ")\n",
    "print(list(final))"
   ]
  },
  {
   "cell_type": "code",
   "execution_count": 16,
   "metadata": {},
   "outputs": [
    {
     "data": {
      "text/plain": [
       "[('Bear', 2), ('Car', 3), ('Deer', 2), ('River', 2)]"
      ]
     },
     "execution_count": 16,
     "metadata": {},
     "output_type": "execute_result"
    }
   ],
   "source": [
    "results"
   ]
  },
  {
   "cell_type": "markdown",
   "metadata": {},
   "source": [
    "## Simple Map Reduce Illustration\n",
    "\n",
    "See each different stage of mapping, shuffling and reducing with a smaller dataset."
   ]
  },
  {
   "cell_type": "code",
   "execution_count": 17,
   "metadata": {},
   "outputs": [
    {
     "name": "stdout",
     "output_type": "stream",
     "text": [
      "Mapping: [('Deer', 1), ('Bear', 1), ('River', 1), ('Car', 1), ('Car', 1), ('River', 1), ('Deer', 1), ('Car', 1), ('Bear', 1)]\n",
      "Shuffling: [('Bear', 1), ('Bear', 1), ('Car', 1), ('Car', 1), ('Car', 1), ('Deer', 1), ('Deer', 1), ('River', 1), ('River', 1)]\n",
      "Reducing: [('Bear', 2), ('Car', 3), ('Deer', 2), ('River', 2)]\n"
     ]
    }
   ],
   "source": [
    "! python simple.py"
   ]
  },
  {
   "cell_type": "markdown",
   "metadata": {},
   "source": [
    "## Single Machine and Multiple Machines\n",
    "\n",
    "Processing a larger dataset, `pg2701.txt`, the task is to find the most common words in the book of **Moby Dick; or The Whale**."
   ]
  },
  {
   "cell_type": "markdown",
   "metadata": {},
   "source": [
    "### Single Machine"
   ]
  },
  {
   "cell_type": "markdown",
   "metadata": {},
   "source": [
    "If the code is written without the idea of Map Reduce, a single node has to do all different tasks in the job.\n",
    "\n",
    "- Read the file\n",
    "- Find all the words\n",
    "- Keep a count for each different word in the memory\n",
    "- Sort the words by the maximum occurance\n",
    "- Print top N of the words"
   ]
  },
  {
   "cell_type": "code",
   "execution_count": 18,
   "metadata": {},
   "outputs": [
    {
     "name": "stdout",
     "output_type": "stream",
     "text": [
      "max: the = 14620\n",
      "[[\"the\", 14620], [\"project\", 91], [\"gutenberg\", 94], [\"ebook\", 10], [\"of\", 6732], [\"moby\", 89], [\"dick\", 89], [\"or\", 797], [\"whale\", 1233], [\"by\", 1226]]\n",
      "CPU times: user 6.79 ms, sys: 8.12 ms, total: 14.9 ms\n",
      "Wall time: 752 ms\n"
     ]
    }
   ],
   "source": [
    "%%time\n",
    "\n",
    "! python single_machine.py"
   ]
  },
  {
   "cell_type": "markdown",
   "metadata": {},
   "source": [
    "### Multiple Machines with MapReduce Algorithm"
   ]
  },
  {
   "cell_type": "markdown",
   "metadata": {},
   "source": [
    "The tasks in the job divided into seperate tasks, and each task can be performed on **a seperate node**. The result of different tasks can be shared between nodes through network or from the disk.\n",
    "\n",
    "- Mapping is the task to map a value to each key\n",
    "- Shuffle goes through the mapped values, and sorts every key value pair\n",
    "- Reduce task reduces each key value pair to a single key with the aggregated value"
   ]
  },
  {
   "cell_type": "code",
   "execution_count": 19,
   "metadata": {},
   "outputs": [
    {
     "name": "stdout",
     "output_type": "stream",
     "text": [
      "CPU times: user 6.35 ms, sys: 7.62 ms, total: 14 ms\n",
      "Wall time: 697 ms\n"
     ]
    }
   ],
   "source": [
    "%%time\n",
    "\n",
    "! python mapping.py"
   ]
  },
  {
   "cell_type": "code",
   "execution_count": 20,
   "metadata": {},
   "outputs": [
    {
     "name": "stdout",
     "output_type": "stream",
     "text": [
      "CPU times: user 44.4 ms, sys: 19.3 ms, total: 63.7 ms\n",
      "Wall time: 3.38 s\n"
     ]
    }
   ],
   "source": [
    "%%time\n",
    "\n",
    "! python shuffling.py"
   ]
  },
  {
   "cell_type": "code",
   "execution_count": 21,
   "metadata": {},
   "outputs": [
    {
     "name": "stdout",
     "output_type": "stream",
     "text": [
      "max: the = 14620\n",
      "CPU times: user 4.18 ms, sys: 6.27 ms, total: 10.5 ms\n",
      "Wall time: 613 ms\n"
     ]
    }
   ],
   "source": [
    "%%time\n",
    "\n",
    "! python reducing.py"
   ]
  }
 ],
 "metadata": {
  "kernelspec": {
   "display_name": "Python 3.9.4 64-bit ('default-3.9')",
   "language": "python",
   "name": "python3"
  },
  "language_info": {
   "codemirror_mode": {
    "name": "ipython",
    "version": 3
   },
   "file_extension": ".py",
   "mimetype": "text/x-python",
   "name": "python",
   "nbconvert_exporter": "python",
   "pygments_lexer": "ipython3",
   "version": "3.9.4"
  },
  "vscode": {
   "interpreter": {
    "hash": "76d8317b9a1e5685c7b3ee94048cbec1e2a3fa179cdf6223102d8a38cc25965f"
   }
  }
 },
 "nbformat": 4,
 "nbformat_minor": 4
}
