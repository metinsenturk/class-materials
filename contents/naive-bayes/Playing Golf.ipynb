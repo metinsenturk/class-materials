{
 "cells": [
  {
   "cell_type": "markdown",
   "metadata": {},
   "source": [
    "# Calculate Probability of Playing Golf\n",
    "\n",
    "See the example from \n",
    "\n",
    "- [https://datacadamia.com/data_mining/naive_bayes](https://datacadamia.com/data_mining/naive_bayes).\n",
    "- [https://www.geeksforgeeks.org/naive-bayes-classifiers/](https://www.geeksforgeeks.org/naive-bayes-classifiers)"
   ]
  },
  {
   "cell_type": "code",
   "execution_count": 1,
   "metadata": {},
   "outputs": [],
   "source": [
    "import pandas as pd"
   ]
  },
  {
   "cell_type": "code",
   "execution_count": 2,
   "metadata": {},
   "outputs": [
    {
     "data": {
      "text/plain": [
       "(14, 7)"
      ]
     },
     "execution_count": 2,
     "metadata": {},
     "output_type": "execute_result"
    }
   ],
   "source": [
    "df = pd.read_csv('golf.csv'); df.shape"
   ]
  },
  {
   "cell_type": "code",
   "execution_count": 4,
   "metadata": {},
   "outputs": [
    {
     "data": {
      "text/html": [
       "<div>\n",
       "<style scoped>\n",
       "    .dataframe tbody tr th:only-of-type {\n",
       "        vertical-align: middle;\n",
       "    }\n",
       "\n",
       "    .dataframe tbody tr th {\n",
       "        vertical-align: top;\n",
       "    }\n",
       "\n",
       "    .dataframe thead th {\n",
       "        text-align: right;\n",
       "    }\n",
       "</style>\n",
       "<table border=\"1\" class=\"dataframe\">\n",
       "  <thead>\n",
       "    <tr style=\"text-align: right;\">\n",
       "      <th></th>\n",
       "      <th>Outlook</th>\n",
       "      <th>Temperature Numeric</th>\n",
       "      <th>Temperature Nominal</th>\n",
       "      <th>Humidity Numeric</th>\n",
       "      <th>Humidity Nominal</th>\n",
       "      <th>Windy</th>\n",
       "      <th>Play</th>\n",
       "    </tr>\n",
       "  </thead>\n",
       "  <tbody>\n",
       "    <tr>\n",
       "      <th>0</th>\n",
       "      <td>overcast</td>\n",
       "      <td>83</td>\n",
       "      <td>hot</td>\n",
       "      <td>86</td>\n",
       "      <td>high</td>\n",
       "      <td>False</td>\n",
       "      <td>yes</td>\n",
       "    </tr>\n",
       "    <tr>\n",
       "      <th>1</th>\n",
       "      <td>overcast</td>\n",
       "      <td>64</td>\n",
       "      <td>cool</td>\n",
       "      <td>65</td>\n",
       "      <td>normal</td>\n",
       "      <td>True</td>\n",
       "      <td>yes</td>\n",
       "    </tr>\n",
       "    <tr>\n",
       "      <th>2</th>\n",
       "      <td>overcast</td>\n",
       "      <td>72</td>\n",
       "      <td>mild</td>\n",
       "      <td>90</td>\n",
       "      <td>high</td>\n",
       "      <td>True</td>\n",
       "      <td>yes</td>\n",
       "    </tr>\n",
       "    <tr>\n",
       "      <th>3</th>\n",
       "      <td>overcast</td>\n",
       "      <td>81</td>\n",
       "      <td>hot</td>\n",
       "      <td>75</td>\n",
       "      <td>normal</td>\n",
       "      <td>False</td>\n",
       "      <td>yes</td>\n",
       "    </tr>\n",
       "    <tr>\n",
       "      <th>4</th>\n",
       "      <td>rainy</td>\n",
       "      <td>70</td>\n",
       "      <td>mild</td>\n",
       "      <td>96</td>\n",
       "      <td>high</td>\n",
       "      <td>False</td>\n",
       "      <td>yes</td>\n",
       "    </tr>\n",
       "    <tr>\n",
       "      <th>5</th>\n",
       "      <td>rainy</td>\n",
       "      <td>68</td>\n",
       "      <td>cool</td>\n",
       "      <td>80</td>\n",
       "      <td>normal</td>\n",
       "      <td>False</td>\n",
       "      <td>yes</td>\n",
       "    </tr>\n",
       "    <tr>\n",
       "      <th>6</th>\n",
       "      <td>rainy</td>\n",
       "      <td>65</td>\n",
       "      <td>cool</td>\n",
       "      <td>70</td>\n",
       "      <td>normal</td>\n",
       "      <td>True</td>\n",
       "      <td>no</td>\n",
       "    </tr>\n",
       "    <tr>\n",
       "      <th>7</th>\n",
       "      <td>rainy</td>\n",
       "      <td>75</td>\n",
       "      <td>mild</td>\n",
       "      <td>80</td>\n",
       "      <td>normal</td>\n",
       "      <td>False</td>\n",
       "      <td>yes</td>\n",
       "    </tr>\n",
       "    <tr>\n",
       "      <th>8</th>\n",
       "      <td>rainy</td>\n",
       "      <td>71</td>\n",
       "      <td>mild</td>\n",
       "      <td>91</td>\n",
       "      <td>high</td>\n",
       "      <td>True</td>\n",
       "      <td>no</td>\n",
       "    </tr>\n",
       "    <tr>\n",
       "      <th>9</th>\n",
       "      <td>sunny</td>\n",
       "      <td>85</td>\n",
       "      <td>hot</td>\n",
       "      <td>85</td>\n",
       "      <td>high</td>\n",
       "      <td>False</td>\n",
       "      <td>no</td>\n",
       "    </tr>\n",
       "    <tr>\n",
       "      <th>10</th>\n",
       "      <td>sunny</td>\n",
       "      <td>80</td>\n",
       "      <td>hot</td>\n",
       "      <td>90</td>\n",
       "      <td>high</td>\n",
       "      <td>True</td>\n",
       "      <td>no</td>\n",
       "    </tr>\n",
       "    <tr>\n",
       "      <th>11</th>\n",
       "      <td>sunny</td>\n",
       "      <td>72</td>\n",
       "      <td>mild</td>\n",
       "      <td>95</td>\n",
       "      <td>high</td>\n",
       "      <td>False</td>\n",
       "      <td>no</td>\n",
       "    </tr>\n",
       "    <tr>\n",
       "      <th>12</th>\n",
       "      <td>sunny</td>\n",
       "      <td>69</td>\n",
       "      <td>cool</td>\n",
       "      <td>70</td>\n",
       "      <td>normal</td>\n",
       "      <td>False</td>\n",
       "      <td>yes</td>\n",
       "    </tr>\n",
       "    <tr>\n",
       "      <th>13</th>\n",
       "      <td>sunny</td>\n",
       "      <td>75</td>\n",
       "      <td>mild</td>\n",
       "      <td>70</td>\n",
       "      <td>normal</td>\n",
       "      <td>True</td>\n",
       "      <td>yes</td>\n",
       "    </tr>\n",
       "  </tbody>\n",
       "</table>\n",
       "</div>"
      ],
      "text/plain": [
       "     Outlook  Temperature Numeric Temperature Nominal  Humidity Numeric  \\\n",
       "0   overcast                   83                 hot                86   \n",
       "1   overcast                   64                cool                65   \n",
       "2   overcast                   72                mild                90   \n",
       "3   overcast                   81                 hot                75   \n",
       "4      rainy                   70                mild                96   \n",
       "5      rainy                   68                cool                80   \n",
       "6      rainy                   65                cool                70   \n",
       "7      rainy                   75                mild                80   \n",
       "8      rainy                   71                mild                91   \n",
       "9      sunny                   85                 hot                85   \n",
       "10     sunny                   80                 hot                90   \n",
       "11     sunny                   72                mild                95   \n",
       "12     sunny                   69                cool                70   \n",
       "13     sunny                   75                mild                70   \n",
       "\n",
       "   Humidity Nominal  Windy Play  \n",
       "0              high  False  yes  \n",
       "1            normal   True  yes  \n",
       "2              high   True  yes  \n",
       "3            normal  False  yes  \n",
       "4              high  False  yes  \n",
       "5            normal  False  yes  \n",
       "6            normal   True   no  \n",
       "7            normal  False  yes  \n",
       "8              high   True   no  \n",
       "9              high  False   no  \n",
       "10             high   True   no  \n",
       "11             high  False   no  \n",
       "12           normal  False  yes  \n",
       "13           normal   True  yes  "
      ]
     },
     "execution_count": 4,
     "metadata": {},
     "output_type": "execute_result"
    }
   ],
   "source": [
    "df"
   ]
  },
  {
   "cell_type": "markdown",
   "metadata": {},
   "source": [
    "## Calculate Probabilities"
   ]
  },
  {
   "cell_type": "markdown",
   "metadata": {},
   "source": [
    "### P(A) - Probability of A Occuring Itself"
   ]
  },
  {
   "cell_type": "code",
   "execution_count": 4,
   "metadata": {},
   "outputs": [
    {
     "data": {
      "text/html": [
       "<div>\n",
       "<style scoped>\n",
       "    .dataframe tbody tr th:only-of-type {\n",
       "        vertical-align: middle;\n",
       "    }\n",
       "\n",
       "    .dataframe tbody tr th {\n",
       "        vertical-align: top;\n",
       "    }\n",
       "\n",
       "    .dataframe thead th {\n",
       "        text-align: right;\n",
       "    }\n",
       "</style>\n",
       "<table border=\"1\" class=\"dataframe\">\n",
       "  <thead>\n",
       "    <tr style=\"text-align: right;\">\n",
       "      <th></th>\n",
       "      <th>Play</th>\n",
       "      <th>P(Yes)/ P(No)</th>\n",
       "    </tr>\n",
       "    <tr>\n",
       "      <th>Play</th>\n",
       "      <th></th>\n",
       "      <th></th>\n",
       "    </tr>\n",
       "  </thead>\n",
       "  <tbody>\n",
       "    <tr>\n",
       "      <th>no</th>\n",
       "      <td>5</td>\n",
       "      <td>5/14</td>\n",
       "    </tr>\n",
       "    <tr>\n",
       "      <th>yes</th>\n",
       "      <td>9</td>\n",
       "      <td>9/14</td>\n",
       "    </tr>\n",
       "  </tbody>\n",
       "</table>\n",
       "</div>"
      ],
      "text/plain": [
       "      Play P(Yes)/ P(No)\n",
       "Play                    \n",
       "no       5          5/14\n",
       "yes      9          9/14"
      ]
     },
     "execution_count": 4,
     "metadata": {},
     "output_type": "execute_result"
    }
   ],
   "source": [
    "p_yes_no = df.groupby('Play')\n",
    "p_yes_no = p_yes_no.agg({'Play': ['count', lambda x: str(len(x)) + '/' + str(len(df))]})\n",
    "p_yes_no.columns = ['Play', 'P(Yes)/ P(No)']\n",
    "p_yes_no"
   ]
  },
  {
   "cell_type": "markdown",
   "metadata": {},
   "source": [
    "### P(A and B) - Probability of A and B Occuring Together"
   ]
  },
  {
   "cell_type": "code",
   "execution_count": 5,
   "metadata": {},
   "outputs": [],
   "source": [
    "def get_conditional_probability(df, feature_name):\n",
    "    df_conditional = df.groupby(feature_name).agg({\n",
    "        'Play': [\n",
    "            lambda x: sum(1 for i in x if i == 'yes'), \n",
    "            lambda x: sum(1 for i in x if i == 'no'),\n",
    "            lambda x: '{}/{}'.format(sum(1 for i in x if i == 'yes'), df.Play.value_counts().yes), \n",
    "            lambda x: '{}/{}'.format(sum(1 for i in x if i == 'no'), df.Play.value_counts().no), \n",
    "        ]\n",
    "    })\n",
    "    df_conditional.columns = ['Yes', 'No', f'P({feature_name}|Yes)', f'P({feature_name}|No)']\n",
    "    return df_conditional\n"
   ]
  },
  {
   "cell_type": "code",
   "execution_count": 6,
   "metadata": {},
   "outputs": [
    {
     "data": {
      "text/html": [
       "<div>\n",
       "<style scoped>\n",
       "    .dataframe tbody tr th:only-of-type {\n",
       "        vertical-align: middle;\n",
       "    }\n",
       "\n",
       "    .dataframe tbody tr th {\n",
       "        vertical-align: top;\n",
       "    }\n",
       "\n",
       "    .dataframe thead th {\n",
       "        text-align: right;\n",
       "    }\n",
       "</style>\n",
       "<table border=\"1\" class=\"dataframe\">\n",
       "  <thead>\n",
       "    <tr style=\"text-align: right;\">\n",
       "      <th></th>\n",
       "      <th>Yes</th>\n",
       "      <th>No</th>\n",
       "      <th>P(Outlook|Yes)</th>\n",
       "      <th>P(Outlook|No)</th>\n",
       "    </tr>\n",
       "    <tr>\n",
       "      <th>Outlook</th>\n",
       "      <th></th>\n",
       "      <th></th>\n",
       "      <th></th>\n",
       "      <th></th>\n",
       "    </tr>\n",
       "  </thead>\n",
       "  <tbody>\n",
       "    <tr>\n",
       "      <th>overcast</th>\n",
       "      <td>4</td>\n",
       "      <td>0</td>\n",
       "      <td>4/9</td>\n",
       "      <td>0/5</td>\n",
       "    </tr>\n",
       "    <tr>\n",
       "      <th>rainy</th>\n",
       "      <td>3</td>\n",
       "      <td>2</td>\n",
       "      <td>3/9</td>\n",
       "      <td>2/5</td>\n",
       "    </tr>\n",
       "    <tr>\n",
       "      <th>sunny</th>\n",
       "      <td>2</td>\n",
       "      <td>3</td>\n",
       "      <td>2/9</td>\n",
       "      <td>3/5</td>\n",
       "    </tr>\n",
       "  </tbody>\n",
       "</table>\n",
       "</div>"
      ],
      "text/plain": [
       "          Yes  No P(Outlook|Yes) P(Outlook|No)\n",
       "Outlook                                       \n",
       "overcast    4   0            4/9           0/5\n",
       "rainy       3   2            3/9           2/5\n",
       "sunny       2   3            2/9           3/5"
      ]
     },
     "execution_count": 6,
     "metadata": {},
     "output_type": "execute_result"
    }
   ],
   "source": [
    "p_outlook_given_play = get_conditional_probability(df, 'Outlook')\n",
    "p_outlook_given_play"
   ]
  },
  {
   "cell_type": "code",
   "execution_count": 7,
   "metadata": {},
   "outputs": [
    {
     "data": {
      "text/html": [
       "<div>\n",
       "<style scoped>\n",
       "    .dataframe tbody tr th:only-of-type {\n",
       "        vertical-align: middle;\n",
       "    }\n",
       "\n",
       "    .dataframe tbody tr th {\n",
       "        vertical-align: top;\n",
       "    }\n",
       "\n",
       "    .dataframe thead th {\n",
       "        text-align: right;\n",
       "    }\n",
       "</style>\n",
       "<table border=\"1\" class=\"dataframe\">\n",
       "  <thead>\n",
       "    <tr style=\"text-align: right;\">\n",
       "      <th></th>\n",
       "      <th>Yes</th>\n",
       "      <th>No</th>\n",
       "      <th>P(Temperature Nominal|Yes)</th>\n",
       "      <th>P(Temperature Nominal|No)</th>\n",
       "    </tr>\n",
       "    <tr>\n",
       "      <th>Temperature Nominal</th>\n",
       "      <th></th>\n",
       "      <th></th>\n",
       "      <th></th>\n",
       "      <th></th>\n",
       "    </tr>\n",
       "  </thead>\n",
       "  <tbody>\n",
       "    <tr>\n",
       "      <th>cool</th>\n",
       "      <td>3</td>\n",
       "      <td>1</td>\n",
       "      <td>3/9</td>\n",
       "      <td>1/5</td>\n",
       "    </tr>\n",
       "    <tr>\n",
       "      <th>hot</th>\n",
       "      <td>2</td>\n",
       "      <td>2</td>\n",
       "      <td>2/9</td>\n",
       "      <td>2/5</td>\n",
       "    </tr>\n",
       "    <tr>\n",
       "      <th>mild</th>\n",
       "      <td>4</td>\n",
       "      <td>2</td>\n",
       "      <td>4/9</td>\n",
       "      <td>2/5</td>\n",
       "    </tr>\n",
       "  </tbody>\n",
       "</table>\n",
       "</div>"
      ],
      "text/plain": [
       "                     Yes  No P(Temperature Nominal|Yes)  \\\n",
       "Temperature Nominal                                       \n",
       "cool                   3   1                        3/9   \n",
       "hot                    2   2                        2/9   \n",
       "mild                   4   2                        4/9   \n",
       "\n",
       "                    P(Temperature Nominal|No)  \n",
       "Temperature Nominal                            \n",
       "cool                                      1/5  \n",
       "hot                                       2/5  \n",
       "mild                                      2/5  "
      ]
     },
     "execution_count": 7,
     "metadata": {},
     "output_type": "execute_result"
    }
   ],
   "source": [
    "p_temparature_given_play = get_conditional_probability(df, 'Temperature Nominal')\n",
    "p_temparature_given_play"
   ]
  },
  {
   "cell_type": "code",
   "execution_count": 8,
   "metadata": {},
   "outputs": [
    {
     "data": {
      "text/html": [
       "<div>\n",
       "<style scoped>\n",
       "    .dataframe tbody tr th:only-of-type {\n",
       "        vertical-align: middle;\n",
       "    }\n",
       "\n",
       "    .dataframe tbody tr th {\n",
       "        vertical-align: top;\n",
       "    }\n",
       "\n",
       "    .dataframe thead th {\n",
       "        text-align: right;\n",
       "    }\n",
       "</style>\n",
       "<table border=\"1\" class=\"dataframe\">\n",
       "  <thead>\n",
       "    <tr style=\"text-align: right;\">\n",
       "      <th></th>\n",
       "      <th>Yes</th>\n",
       "      <th>No</th>\n",
       "      <th>P(Humidity Nominal|Yes)</th>\n",
       "      <th>P(Humidity Nominal|No)</th>\n",
       "    </tr>\n",
       "    <tr>\n",
       "      <th>Humidity Nominal</th>\n",
       "      <th></th>\n",
       "      <th></th>\n",
       "      <th></th>\n",
       "      <th></th>\n",
       "    </tr>\n",
       "  </thead>\n",
       "  <tbody>\n",
       "    <tr>\n",
       "      <th>high</th>\n",
       "      <td>3</td>\n",
       "      <td>4</td>\n",
       "      <td>3/9</td>\n",
       "      <td>4/5</td>\n",
       "    </tr>\n",
       "    <tr>\n",
       "      <th>normal</th>\n",
       "      <td>6</td>\n",
       "      <td>1</td>\n",
       "      <td>6/9</td>\n",
       "      <td>1/5</td>\n",
       "    </tr>\n",
       "  </tbody>\n",
       "</table>\n",
       "</div>"
      ],
      "text/plain": [
       "                  Yes  No P(Humidity Nominal|Yes) P(Humidity Nominal|No)\n",
       "Humidity Nominal                                                        \n",
       "high                3   4                     3/9                    4/5\n",
       "normal              6   1                     6/9                    1/5"
      ]
     },
     "execution_count": 8,
     "metadata": {},
     "output_type": "execute_result"
    }
   ],
   "source": [
    "p_humidity_given_play = get_conditional_probability(df, 'Humidity Nominal')\n",
    "p_humidity_given_play"
   ]
  },
  {
   "cell_type": "code",
   "execution_count": 9,
   "metadata": {},
   "outputs": [
    {
     "data": {
      "text/html": [
       "<div>\n",
       "<style scoped>\n",
       "    .dataframe tbody tr th:only-of-type {\n",
       "        vertical-align: middle;\n",
       "    }\n",
       "\n",
       "    .dataframe tbody tr th {\n",
       "        vertical-align: top;\n",
       "    }\n",
       "\n",
       "    .dataframe thead th {\n",
       "        text-align: right;\n",
       "    }\n",
       "</style>\n",
       "<table border=\"1\" class=\"dataframe\">\n",
       "  <thead>\n",
       "    <tr style=\"text-align: right;\">\n",
       "      <th></th>\n",
       "      <th>Yes</th>\n",
       "      <th>No</th>\n",
       "      <th>P(Windy|Yes)</th>\n",
       "      <th>P(Windy|No)</th>\n",
       "    </tr>\n",
       "    <tr>\n",
       "      <th>Windy</th>\n",
       "      <th></th>\n",
       "      <th></th>\n",
       "      <th></th>\n",
       "      <th></th>\n",
       "    </tr>\n",
       "  </thead>\n",
       "  <tbody>\n",
       "    <tr>\n",
       "      <th>False</th>\n",
       "      <td>6</td>\n",
       "      <td>2</td>\n",
       "      <td>6/9</td>\n",
       "      <td>2/5</td>\n",
       "    </tr>\n",
       "    <tr>\n",
       "      <th>True</th>\n",
       "      <td>3</td>\n",
       "      <td>3</td>\n",
       "      <td>3/9</td>\n",
       "      <td>3/5</td>\n",
       "    </tr>\n",
       "  </tbody>\n",
       "</table>\n",
       "</div>"
      ],
      "text/plain": [
       "       Yes  No P(Windy|Yes) P(Windy|No)\n",
       "Windy                                  \n",
       "False    6   2          6/9         2/5\n",
       "True     3   3          3/9         3/5"
      ]
     },
     "execution_count": 9,
     "metadata": {},
     "output_type": "execute_result"
    }
   ],
   "source": [
    "p_windy_given_play = get_conditional_probability(df, 'Windy')\n",
    "p_windy_given_play"
   ]
  },
  {
   "cell_type": "markdown",
   "metadata": {},
   "source": [
    "## Question: Probability of playing golf in any day?\n",
    "\n",
    "> P(Yes)\n",
    "\n",
    "The answer is 9/14."
   ]
  },
  {
   "cell_type": "markdown",
   "metadata": {},
   "source": [
    "## Question: Probability of playing if the weather is sunny?"
   ]
  },
  {
   "cell_type": "markdown",
   "metadata": {},
   "source": [
    "Below is the equation:\n",
    "\n",
    "> P(Yes | Sunny) = P(Sunny|Yes) * P(Yes) / P(Sunny)\n",
    "\n",
    "P(Sunny |Yes) = 2/9 = 0.22  \n",
    "P(Sunny) = 5/14 = 0.36  \n",
    "P(Yes)= 9/14 = 0.64  \n",
    "**P(Yes|Sunny)** = 0.22 * 0.64 / 0.36 = 0.39"
   ]
  },
  {
   "cell_type": "markdown",
   "metadata": {},
   "source": [
    "## Question: Probability of the playing given that it is a new day with below conditions?"
   ]
  },
  {
   "cell_type": "markdown",
   "metadata": {},
   "source": [
    "Bayes theorem states:\n",
    "\n",
    "Probability of event A given that B already occured is\n",
    "\n",
    "$$\n",
    "\\text{Prob(A given B)} = \\frac{\\displaystyle \\text{Prob(A and B)}}{\\displaystyle \\text{Prob(A)}}\n",
    "$$"
   ]
  },
  {
   "cell_type": "markdown",
   "metadata": {},
   "source": [
    "What is the probability of Play for `yes` and `no` a new day with the following day characteristics?\n",
    "\n",
    "> Rainy, Cool, High, True\n",
    "\n",
    "Probability of  yes, given that it is a new day is:\n",
    "\n",
    "$$\n",
    "\\begin{array}{rrr}\n",
    "P(Yes|New Day) & = & \\frac{P(Rainy Outlook |Yes).P(Cool Temperature |Yes).P(High Humidity|Yes).P(With Wind|Yes).P(Play|Yes)}{P(New Day) }\n",
    "\\end{array}\n",
    "$$"
   ]
  },
  {
   "cell_type": "markdown",
   "metadata": {},
   "source": [
    "In this equation, `P(Yes|New Day)` is unknown but if it is summed up with the no probabililty `P(No|New Day)`, it sums up to 1.\n",
    "\n",
    "$$\n",
    "P(New Day)=P(Yes|New Day)+P(No|New Day)=1\n",
    "$$"
   ]
  },
  {
   "cell_type": "code",
   "execution_count": 10,
   "metadata": {},
   "outputs": [],
   "source": [
    "def get_p_yes_no_given_new_day(play, outlook, temperature, humidity, windy):\n",
    "    _play = play.capitalize()\n",
    "    a = p_outlook_given_play.loc[p_outlook_given_play.index == outlook, f'P(Outlook|{_play})'][0]\n",
    "    b = p_temparature_given_play.loc[p_temparature_given_play.index == temperature, f'P(Temperature Nominal|{_play})'][0]\n",
    "    c = p_humidity_given_play.loc[p_humidity_given_play.index == humidity, f'P(Humidity Nominal|{_play})'][0]\n",
    "    d = p_windy_given_play.loc[p_windy_given_play.index ==  windy, f'P(Windy|{_play})'].iloc[0]\n",
    "    e = p_yes_no.loc[p_yes_no.index == play, f'P(Yes)/ P(No)'].iloc[0]\n",
    "    out = '{} * {} * {} * {} * {}'.format(a, b, c, d, e)\n",
    "    print(out)\n",
    "    return round(eval(out), 4)"
   ]
  },
  {
   "cell_type": "code",
   "execution_count": 11,
   "metadata": {},
   "outputs": [
    {
     "name": "stdout",
     "output_type": "stream",
     "text": [
      "3/9 * 3/9 * 3/9 * 3/9 * 9/14\n"
     ]
    },
    {
     "data": {
      "text/plain": [
       "(0.0079,)"
      ]
     },
     "execution_count": 11,
     "metadata": {},
     "output_type": "execute_result"
    }
   ],
   "source": [
    "p_yes_given_new_day = get_p_yes_no_given_new_day('yes', 'rainy', 'cool', 'high', True)\n",
    "p_yes_given_new_day, "
   ]
  },
  {
   "cell_type": "code",
   "execution_count": 12,
   "metadata": {},
   "outputs": [
    {
     "name": "stdout",
     "output_type": "stream",
     "text": [
      "2/5 * 1/5 * 4/5 * 3/5 * 5/14\n"
     ]
    },
    {
     "data": {
      "text/plain": [
       "0.0137"
      ]
     },
     "execution_count": 12,
     "metadata": {},
     "output_type": "execute_result"
    }
   ],
   "source": [
    "p_no_given_new_day = get_p_yes_no_given_new_day('no', 'rainy', 'cool', 'high', True)\n",
    "p_no_given_new_day"
   ]
  },
  {
   "cell_type": "code",
   "execution_count": 13,
   "metadata": {},
   "outputs": [
    {
     "data": {
      "text/plain": [
       "0.0216"
      ]
     },
     "execution_count": 13,
     "metadata": {},
     "output_type": "execute_result"
    }
   ],
   "source": [
    "p_new_day = (p_yes_given_new_day + p_no_given_new_day)\n",
    "p_new_day"
   ]
  },
  {
   "cell_type": "code",
   "execution_count": 14,
   "metadata": {},
   "outputs": [
    {
     "data": {
      "text/plain": [
       "0.36574074074074076"
      ]
     },
     "execution_count": 14,
     "metadata": {},
     "output_type": "execute_result"
    }
   ],
   "source": [
    "p_yes_given_new_day / p_new_day"
   ]
  },
  {
   "cell_type": "code",
   "execution_count": 15,
   "metadata": {},
   "outputs": [
    {
     "data": {
      "text/plain": [
       "0.6342592592592592"
      ]
     },
     "execution_count": 15,
     "metadata": {},
     "output_type": "execute_result"
    }
   ],
   "source": [
    "p_no_given_new_day / p_new_day"
   ]
  }
 ],
 "metadata": {
  "interpreter": {
   "hash": "76d8317b9a1e5685c7b3ee94048cbec1e2a3fa179cdf6223102d8a38cc25965f"
  },
  "kernelspec": {
   "display_name": "Python 3.9.4 64-bit ('default-3.9': pyenv)",
   "name": "python3"
  },
  "language_info": {
   "codemirror_mode": {
    "name": "ipython",
    "version": 3
   },
   "file_extension": ".py",
   "mimetype": "text/x-python",
   "name": "python",
   "nbconvert_exporter": "python",
   "pygments_lexer": "ipython3",
   "version": "3.9.4"
  },
  "orig_nbformat": 4
 },
 "nbformat": 4,
 "nbformat_minor": 2
}
